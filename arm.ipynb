{
 "cells": [
  {
   "cell_type": "markdown",
   "metadata": {},
   "source": [
    "declare equation for X,Y,Z in a function \n",
    "define L1,L2,L3 link length\n",
    "create all possible values of ∅₁,∅₂,ϴ₁,ϴ₂ (0-360) //360 x 360 x 360 x 360 = 1,296,360,960// all posibble combinations\n",
    "iterating through all possible combinations of the angles generate values for X,Y,Z\n",
    "save values into a database.\n"
   ]
  },
  {
   "cell_type": "code",
   "execution_count": null,
   "metadata": {},
   "outputs": [],
   "source": [
    "import itertools\n",
    "import math\n",
    "import pandas as pd \n",
    "\n",
    "ϴ1 = range(0, 180)\n",
    "ϴ2 = range(-45, 120)\n",
    "Ω1 = range(0, 90)\n",
    "Ω2 = range(0, 120)\n",
    "\n",
    "L1 = 21\n",
    "L2 = 21\n",
    "L3 = 28\n",
    "\n",
    "combinations = list(itertools.product(ϴ1, ϴ2, Ω1, Ω2))\n",
    "\n",
    "def x (theta1,theta2,phi1,phi2):\n",
    "    tempa = (L2- (L1*math.cos(theta1))) * math.cos(phi2)\n",
    "    answerx = (L1*math.sin(theta1)) *math.cos(phi1)   + (L3 + tempa)*math.sin(theta2)\n",
    "    return (answerx)\n",
    "\n",
    "def y (theta1,theta2,phi1,phi2):\n",
    "    tempb= (L2 + L1*math.cos(theta1))*math.cos(phi2)\n",
    "    answery = (L3 - tempb)*math.cos(theta2) - L1* math.sin(theta1)*math.sin(theta2)*math.cos(phi1)    \n",
    "    return (answery)\n",
    "\n",
    "def z (theta1,theta2,phi1,phi2):\n",
    "    answerz = (L3 + L2 - L1*math.cos(theta1) )*math.sin(phi2) + L1*math.sin(theta1)*math.sin(phi1)\n",
    "    return (answerz)\n",
    "\n",
    "\n",
    "dfmax = pd.DataFrame(columns=['x', 'y','z','theta1', 'theta2', 'phi1', 'phi2'])\n",
    "\n",
    "for sample in combinations:\n",
    "    # print(x(sample[0],sample[1],sample[2],sample[3])) \n",
    "    xval = x(sample[0],sample[1],sample[2],sample[3])\n",
    "    yval = y(sample[0],sample[1],sample[2],sample[3])\n",
    "    zval = z(sample[0],sample[1],sample[2],sample[3])\n",
    "    th1 = sample[0]\n",
    "    th2 = sample[1]\n",
    "    ph1 = sample[2]\n",
    "    ph2 = sample[3]\n",
    "    \n",
    "    row = {'x': xval,'y': yval,'z': zval,'theta1':th1,'theta2':th2,'phi1':ph1,'phi2':ph2 }\n",
    "    # print(row)\n",
    "\n",
    "    dfmax = dfmax.append(row,ignore_index=True)\n",
    "dfmax.to_csv(\"rawarmdata.csv\")\n",
    "# print(dfmax)\n",
    "\n"
   ]
  },
  {
   "cell_type": "code",
   "execution_count": null,
   "metadata": {},
   "outputs": [],
   "source": []
  }
 ],
 "metadata": {
  "kernelspec": {
   "display_name": "Python 3 (ipykernel)",
   "language": "python",
   "name": "python3"
  },
  "language_info": {
   "codemirror_mode": {
    "name": "ipython",
    "version": 3
   },
   "file_extension": ".py",
   "mimetype": "text/x-python",
   "name": "python",
   "nbconvert_exporter": "python",
   "pygments_lexer": "ipython3",
   "version": "3.9.13"
  }
 },
 "nbformat": 4,
 "nbformat_minor": 2
}
